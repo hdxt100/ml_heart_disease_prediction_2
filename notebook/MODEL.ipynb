{
 "cells": [
  {
   "cell_type": "markdown",
   "id": "fd72d9bb",
   "metadata": {},
   "source": [
    "#### Import the libraries"
   ]
  },
  {
   "cell_type": "code",
   "execution_count": 2,
   "id": "0356a7c6",
   "metadata": {},
   "outputs": [],
   "source": [
    "import numpy as np\n",
    "import matplotlib.pyplot as plt\n",
    "import seaborn as sns\n",
    "import pandas as pd"
   ]
  },
  {
   "cell_type": "markdown",
   "id": "ce5cfce9",
   "metadata": {},
   "source": [
    "#### Read the dataset"
   ]
  },
  {
   "cell_type": "code",
   "execution_count": 3,
   "id": "e67679f1",
   "metadata": {},
   "outputs": [
    {
     "data": {
      "text/html": [
       "<div>\n",
       "<style scoped>\n",
       "    .dataframe tbody tr th:only-of-type {\n",
       "        vertical-align: middle;\n",
       "    }\n",
       "\n",
       "    .dataframe tbody tr th {\n",
       "        vertical-align: top;\n",
       "    }\n",
       "\n",
       "    .dataframe thead th {\n",
       "        text-align: right;\n",
       "    }\n",
       "</style>\n",
       "<table border=\"1\" class=\"dataframe\">\n",
       "  <thead>\n",
       "    <tr style=\"text-align: right;\">\n",
       "      <th></th>\n",
       "      <th>age</th>\n",
       "      <th>gender</th>\n",
       "      <th>chest_pain</th>\n",
       "      <th>rest_bps</th>\n",
       "      <th>cholestrol</th>\n",
       "      <th>fasting_blood_sugar</th>\n",
       "      <th>rest_ecg</th>\n",
       "      <th>thalach</th>\n",
       "      <th>exer_angina</th>\n",
       "      <th>old_peak</th>\n",
       "      <th>slope</th>\n",
       "      <th>ca</th>\n",
       "      <th>thalassemia</th>\n",
       "      <th>target</th>\n",
       "    </tr>\n",
       "  </thead>\n",
       "  <tbody>\n",
       "    <tr>\n",
       "      <th>0</th>\n",
       "      <td>63</td>\n",
       "      <td>1</td>\n",
       "      <td>3</td>\n",
       "      <td>145</td>\n",
       "      <td>233</td>\n",
       "      <td>1</td>\n",
       "      <td>0</td>\n",
       "      <td>150</td>\n",
       "      <td>0</td>\n",
       "      <td>2.3</td>\n",
       "      <td>0</td>\n",
       "      <td>0</td>\n",
       "      <td>1</td>\n",
       "      <td>1</td>\n",
       "    </tr>\n",
       "    <tr>\n",
       "      <th>1</th>\n",
       "      <td>37</td>\n",
       "      <td>1</td>\n",
       "      <td>2</td>\n",
       "      <td>130</td>\n",
       "      <td>250</td>\n",
       "      <td>0</td>\n",
       "      <td>1</td>\n",
       "      <td>187</td>\n",
       "      <td>0</td>\n",
       "      <td>3.5</td>\n",
       "      <td>0</td>\n",
       "      <td>0</td>\n",
       "      <td>2</td>\n",
       "      <td>1</td>\n",
       "    </tr>\n",
       "    <tr>\n",
       "      <th>2</th>\n",
       "      <td>41</td>\n",
       "      <td>0</td>\n",
       "      <td>1</td>\n",
       "      <td>130</td>\n",
       "      <td>204</td>\n",
       "      <td>0</td>\n",
       "      <td>0</td>\n",
       "      <td>172</td>\n",
       "      <td>0</td>\n",
       "      <td>1.4</td>\n",
       "      <td>2</td>\n",
       "      <td>0</td>\n",
       "      <td>2</td>\n",
       "      <td>1</td>\n",
       "    </tr>\n",
       "    <tr>\n",
       "      <th>3</th>\n",
       "      <td>56</td>\n",
       "      <td>1</td>\n",
       "      <td>1</td>\n",
       "      <td>120</td>\n",
       "      <td>236</td>\n",
       "      <td>0</td>\n",
       "      <td>1</td>\n",
       "      <td>178</td>\n",
       "      <td>0</td>\n",
       "      <td>0.8</td>\n",
       "      <td>2</td>\n",
       "      <td>0</td>\n",
       "      <td>2</td>\n",
       "      <td>1</td>\n",
       "    </tr>\n",
       "    <tr>\n",
       "      <th>4</th>\n",
       "      <td>57</td>\n",
       "      <td>0</td>\n",
       "      <td>0</td>\n",
       "      <td>120</td>\n",
       "      <td>354</td>\n",
       "      <td>0</td>\n",
       "      <td>1</td>\n",
       "      <td>163</td>\n",
       "      <td>1</td>\n",
       "      <td>0.6</td>\n",
       "      <td>2</td>\n",
       "      <td>0</td>\n",
       "      <td>2</td>\n",
       "      <td>1</td>\n",
       "    </tr>\n",
       "  </tbody>\n",
       "</table>\n",
       "</div>"
      ],
      "text/plain": [
       "   age  gender  chest_pain  rest_bps  cholestrol  fasting_blood_sugar  \\\n",
       "0   63       1           3       145         233                    1   \n",
       "1   37       1           2       130         250                    0   \n",
       "2   41       0           1       130         204                    0   \n",
       "3   56       1           1       120         236                    0   \n",
       "4   57       0           0       120         354                    0   \n",
       "\n",
       "   rest_ecg  thalach  exer_angina  old_peak  slope  ca  thalassemia  target  \n",
       "0         0      150            0       2.3      0   0            1       1  \n",
       "1         1      187            0       3.5      0   0            2       1  \n",
       "2         0      172            0       1.4      2   0            2       1  \n",
       "3         1      178            0       0.8      2   0            2       1  \n",
       "4         1      163            1       0.6      2   0            2       1  "
      ]
     },
     "execution_count": 3,
     "metadata": {},
     "output_type": "execute_result"
    }
   ],
   "source": [
    "df = pd.read_csv('E:/Imarticus_CF/Datasets/HeartDisease.csv')\n",
    "df.head()"
   ]
  },
  {
   "cell_type": "code",
   "execution_count": 4,
   "id": "ae347aad",
   "metadata": {},
   "outputs": [
    {
     "data": {
      "text/plain": [
       "(303, 14)"
      ]
     },
     "execution_count": 4,
     "metadata": {},
     "output_type": "execute_result"
    }
   ],
   "source": [
    "df.shape\n",
    "# rows = 303,cols=14"
   ]
  },
  {
   "cell_type": "markdown",
   "id": "df818b3b",
   "metadata": {},
   "source": [
    "### Data Preprocessing"
   ]
  },
  {
   "cell_type": "markdown",
   "id": "427dbc2d",
   "metadata": {},
   "source": [
    "#### 1) Handling Null values"
   ]
  },
  {
   "cell_type": "code",
   "execution_count": 5,
   "id": "ed1b2e03",
   "metadata": {},
   "outputs": [
    {
     "data": {
      "text/plain": [
       "age                    0\n",
       "gender                 0\n",
       "chest_pain             0\n",
       "rest_bps               0\n",
       "cholestrol             0\n",
       "fasting_blood_sugar    0\n",
       "rest_ecg               0\n",
       "thalach                0\n",
       "exer_angina            0\n",
       "old_peak               0\n",
       "slope                  0\n",
       "ca                     0\n",
       "thalassemia            0\n",
       "target                 0\n",
       "dtype: int64"
      ]
     },
     "execution_count": 5,
     "metadata": {},
     "output_type": "execute_result"
    }
   ],
   "source": [
    "df.isnull().sum()"
   ]
  },
  {
   "cell_type": "markdown",
   "id": "655e774d",
   "metadata": {},
   "source": [
    "#### 2) Handling Duplicates"
   ]
  },
  {
   "cell_type": "code",
   "execution_count": 6,
   "id": "29b577e0",
   "metadata": {},
   "outputs": [
    {
     "data": {
      "text/plain": [
       "1"
      ]
     },
     "execution_count": 6,
     "metadata": {},
     "output_type": "execute_result"
    }
   ],
   "source": [
    "df.duplicated().sum()"
   ]
  },
  {
   "cell_type": "code",
   "execution_count": 7,
   "id": "124dca64",
   "metadata": {},
   "outputs": [
    {
     "data": {
      "text/plain": [
       "0"
      ]
     },
     "execution_count": 7,
     "metadata": {},
     "output_type": "execute_result"
    }
   ],
   "source": [
    "df.drop_duplicates(inplace=True)\n",
    "df.duplicated().sum()"
   ]
  },
  {
   "cell_type": "markdown",
   "id": "203e852a",
   "metadata": {},
   "source": [
    "#### 3) Check data types"
   ]
  },
  {
   "cell_type": "code",
   "execution_count": 8,
   "id": "ac044a8a",
   "metadata": {},
   "outputs": [
    {
     "data": {
      "text/plain": [
       "age                      int64\n",
       "gender                   int64\n",
       "chest_pain               int64\n",
       "rest_bps                 int64\n",
       "cholestrol               int64\n",
       "fasting_blood_sugar      int64\n",
       "rest_ecg                 int64\n",
       "thalach                  int64\n",
       "exer_angina              int64\n",
       "old_peak               float64\n",
       "slope                    int64\n",
       "ca                       int64\n",
       "thalassemia              int64\n",
       "target                   int64\n",
       "dtype: object"
      ]
     },
     "execution_count": 8,
     "metadata": {},
     "output_type": "execute_result"
    }
   ],
   "source": [
    "df.dtypes"
   ]
  },
  {
   "cell_type": "markdown",
   "id": "33c94a9c",
   "metadata": {},
   "source": [
    "#### 4) Target Variable"
   ]
  },
  {
   "cell_type": "code",
   "execution_count": 9,
   "id": "b0d0e48d",
   "metadata": {},
   "outputs": [
    {
     "data": {
      "text/plain": [
       "1    164\n",
       "0    138\n",
       "Name: target, dtype: int64"
      ]
     },
     "execution_count": 9,
     "metadata": {},
     "output_type": "execute_result"
    }
   ],
   "source": [
    "df['target'].value_counts()"
   ]
  },
  {
   "cell_type": "markdown",
   "id": "0901cd03",
   "metadata": {},
   "source": [
    "### EDA"
   ]
  },
  {
   "cell_type": "markdown",
   "id": "7c352c08",
   "metadata": {},
   "source": [
    "#### Countplot for Target"
   ]
  },
  {
   "cell_type": "code",
   "execution_count": 10,
   "id": "dee2963b",
   "metadata": {},
   "outputs": [
    {
     "data": {
      "image/png": "[encoded data removed]",
      "text/plain": [
       "<Figure size 640x480 with 1 Axes>"
      ]
     },
     "metadata": {},
     "output_type": "display_data"
    }
   ],
   "source": [
    "sns.countplot(x=df['target'])\n",
    "plt.title('Countplot for Target')\n",
    "plt.show()"
   ]
  },
  {
   "cell_type": "code",
   "execution_count": 11,
   "id": "80e69879",
   "metadata": {},
   "outputs": [
    {
     "data": {
      "text/plain": [
       "Index(['age', 'gender', 'chest_pain', 'rest_bps', 'cholestrol',\n",
       "       'fasting_blood_sugar', 'rest_ecg', 'thalach', 'exer_angina', 'old_peak',\n",
       "       'slope', 'ca', 'thalassemia', 'target'],\n",
       "      dtype='object')"
      ]
     },
     "execution_count": 11,
     "metadata": {},
     "output_type": "execute_result"
    }
   ],
   "source": [
    "df.columns"
   ]
  },
  {
   "cell_type": "code",
   "execution_count": 12,
   "id": "db8b1df2",
   "metadata": {},
   "outputs": [
    {
     "data": {
      "text/plain": [
       "1    206\n",
       "0     96\n",
       "Name: gender, dtype: int64"
      ]
     },
     "execution_count": 12,
     "metadata": {},
     "output_type": "execute_result"
    }
   ],
   "source": [
    "df['gender'].value_counts()"
   ]
  },
  {
   "cell_type": "code",
   "execution_count": 13,
   "id": "7c016ef3",
   "metadata": {},
   "outputs": [
    {
     "name": "stdout",
     "output_type": "stream",
     "text": [
      "Feature age\n",
      "41\n",
      "Feature gender\n",
      "2\n",
      "Feature chest_pain\n",
      "4\n",
      "Feature rest_bps\n",
      "49\n",
      "Feature cholestrol\n",
      "152\n",
      "Feature fasting_blood_sugar\n",
      "2\n",
      "Feature rest_ecg\n",
      "3\n",
      "Feature thalach\n",
      "91\n",
      "Feature exer_angina\n",
      "2\n",
      "Feature old_peak\n",
      "40\n",
      "Feature slope\n",
      "3\n",
      "Feature ca\n",
      "5\n",
      "Feature thalassemia\n",
      "4\n",
      "Feature target\n",
      "2\n"
     ]
    }
   ],
   "source": [
    "for i in df.columns:\n",
    "    print(f'Feature {i}')\n",
    "    print(df[i].nunique())"
   ]
  },
  {
   "cell_type": "code",
   "execution_count": 14,
   "id": "6968195e",
   "metadata": {},
   "outputs": [
    {
     "data": {
      "text/plain": [
       "Index(['age', 'gender', 'chest_pain', 'rest_bps', 'cholestrol',\n",
       "       'fasting_blood_sugar', 'rest_ecg', 'thalach', 'exer_angina', 'old_peak',\n",
       "       'slope', 'ca', 'thalassemia', 'target'],\n",
       "      dtype='object')"
      ]
     },
     "execution_count": 14,
     "metadata": {},
     "output_type": "execute_result"
    }
   ],
   "source": [
    "df.columns"
   ]
  },
  {
   "cell_type": "code",
   "execution_count": 15,
   "id": "1e445845",
   "metadata": {},
   "outputs": [],
   "source": [
    "cont_feat = ['age','rest_bps','cholestrol','thalach','old_peak']\n",
    "# cat_feat = ['gender','chest_pain','fasting_blood_sugar','rest_ecg','exer_angina',\n",
    "#            'slope', 'ca', 'thalassemia']"
   ]
  },
  {
   "cell_type": "code",
   "execution_count": 16,
   "id": "486fa615",
   "metadata": {},
   "outputs": [
    {
     "name": "stdout",
     "output_type": "stream",
     "text": [
      "['gender', 'chest_pain', 'fasting_blood_sugar', 'rest_ecg', 'exer_angina', 'slope', 'ca', 'thalassemia', 'target']\n"
     ]
    }
   ],
   "source": [
    "cat_feat = [i for i in df.columns if i not in cont_feat]\n",
    "print(cat_feat)"
   ]
  },
  {
   "cell_type": "code",
   "execution_count": 17,
   "id": "78926852",
   "metadata": {},
   "outputs": [
    {
     "data": {
      "image/png": "[encoded data removed]",
      "text/plain": [
       "<Figure size 640x480 with 1 Axes>"
      ]
     },
     "metadata": {},
     "output_type": "display_data"
    },
    {
     "data": {
      "image/png": "[encoded data removed]",
      "text/plain": [
       "<Figure size 640x480 with 1 Axes>"
      ]
     },
     "metadata": {},
     "output_type": "display_data"
    },
    {
     "data": {
      "image/png": "[encoded data removed]",
      "text/plain": [
       "<Figure size 640x480 with 1 Axes>"
      ]
     },
     "metadata": {},
     "output_type": "display_data"
    },
    {
     "data": {
      "image/png": "[encoded data removed]",
      "text/plain": [
       "<Figure size 640x480 with 1 Axes>"
      ]
     },
     "metadata": {},
     "output_type": "display_data"
    },
    {
     "data": {
      "image/png": "[encoded data removed]",
      "text/plain": [
       "<Figure size 640x480 with 1 Axes>"
      ]
     },
     "metadata": {},
     "output_type": "display_data"
    },
    {
     "data": {
      "image/png": "[encoded data removed]",
      "text/plain": [
       "<Figure size 640x480 with 1 Axes>"
      ]
     },
     "metadata": {},
     "output_type": "display_data"
    },
    {
     "data": {
      "image/png": "[encoded data removed]",
      "text/plain": [
       "<Figure size 640x480 with 1 Axes>"
      ]
     },
     "metadata": {},
     "output_type": "display_data"
    },
    {
     "data": {
      "image/png": "[encoded data removed]",
      "text/plain": [
       "<Figure size 640x480 with 1 Axes>"
      ]
     },
     "metadata": {},
     "output_type": "display_data"
    },
    {
     "data": {
      "image/png": "[encoded data removed]",
      "text/plain": [
       "<Figure size 640x480 with 1 Axes>"
      ]
     },
     "metadata": {},
     "output_type": "display_data"
    }
   ],
   "source": [
    "for i in cat_feat:\n",
    "    sns.countplot(x=df['target'],hue=df[i])\n",
    "    plt.title(f'Count of target wrt {i}')\n",
    "    plt.show()"
   ]
  },
  {
   "cell_type": "markdown",
   "id": "c1d41616",
   "metadata": {},
   "source": [
    "#### Inference\n",
    "1) Female patients are more affected by heart disease.<br>\n",
    "2) Chest Pain intensity 2 patients are more affected by heart disease.\n",
    "etc"
   ]
  },
  {
   "cell_type": "markdown",
   "id": "2b6a81a9",
   "metadata": {},
   "source": [
    "### Correlation"
   ]
  },
  {
   "cell_type": "code",
   "execution_count": 31,
   "id": "75126cf7",
   "metadata": {},
   "outputs": [],
   "source": [
    "corr = df.corr()"
   ]
  },
  {
   "cell_type": "code",
   "execution_count": 33,
   "id": "06d73926",
   "metadata": {},
   "outputs": [
    {
     "data": {
      "image/png": "[encoded data removed]",
      "text/plain": [
       "<Figure size 1200x1200 with 2 Axes>"
      ]
     },
     "metadata": {},
     "output_type": "display_data"
    }
   ],
   "source": [
    "plt.figure(figsize=(12,12))\n",
    "sns.heatmap(corr[abs(corr)>0.7],annot=True,cmap='RdBu')\n",
    "plt.show()"
   ]
  },
  {
   "cell_type": "markdown",
   "id": "0aba785a",
   "metadata": {},
   "source": [
    "#### Infernece\n",
    "1) Features are not highly correlated."
   ]
  },
  {
   "cell_type": "markdown",
   "id": "b132323d",
   "metadata": {},
   "source": [
    "#### Outlier Treatment"
   ]
  },
  {
   "cell_type": "code",
   "execution_count": 18,
   "id": "5d05c958",
   "metadata": {},
   "outputs": [
    {
     "name": "stdout",
     "output_type": "stream",
     "text": [
      "['age', 'rest_bps', 'cholestrol', 'thalach', 'old_peak']\n"
     ]
    }
   ],
   "source": [
    "print(cont_feat)"
   ]
  },
  {
   "cell_type": "code",
   "execution_count": 19,
   "id": "eb23a7e4",
   "metadata": {},
   "outputs": [
    {
     "data": {
      "image/png": "[encoded data removed]",
      "text/plain": [
       "<Figure size 640x480 with 1 Axes>"
      ]
     },
     "metadata": {},
     "output_type": "display_data"
    },
    {
     "data": {
      "image/png": "[encoded data removed]",
      "text/plain": [
       "<Figure size 640x480 with 1 Axes>"
      ]
     },
     "metadata": {},
     "output_type": "display_data"
    },
    {
     "data": {
      "image/png": "[encoded data removed]",
      "text/plain": [
       "<Figure size 640x480 with 1 Axes>"
      ]
     },
     "metadata": {},
     "output_type": "display_data"
    },
    {
     "data": {
      "image/png": "[encoded data removed]",
      "text/plain": [
       "<Figure size 640x480 with 1 Axes>"
      ]
     },
     "metadata": {},
     "output_type": "display_data"
    },
    {
     "data": {
      "image/png": "[encoded data removed]",
      "text/plain": [
       "<Figure size 640x480 with 1 Axes>"
      ]
     },
     "metadata": {},
     "output_type": "display_data"
    }
   ],
   "source": [
    "for i in cont_feat:\n",
    "    sns.boxplot(x=df[i])\n",
    "    plt.title(f'Boxplot for {i}')\n",
    "    plt.show()"
   ]
  },
  {
   "cell_type": "code",
   "execution_count": 20,
   "id": "17c4faf0",
   "metadata": {},
   "outputs": [
    {
     "data": {
      "text/html": [
       "<div>\n",
       "<style scoped>\n",
       "    .dataframe tbody tr th:only-of-type {\n",
       "        vertical-align: middle;\n",
       "    }\n",
       "\n",
       "    .dataframe tbody tr th {\n",
       "        vertical-align: top;\n",
       "    }\n",
       "\n",
       "    .dataframe thead th {\n",
       "        text-align: right;\n",
       "    }\n",
       "</style>\n",
       "<table border=\"1\" class=\"dataframe\">\n",
       "  <thead>\n",
       "    <tr style=\"text-align: right;\">\n",
       "      <th></th>\n",
       "      <th>count</th>\n",
       "      <th>mean</th>\n",
       "      <th>std</th>\n",
       "      <th>min</th>\n",
       "      <th>50%</th>\n",
       "      <th>95%</th>\n",
       "      <th>97%</th>\n",
       "      <th>98%</th>\n",
       "      <th>99%</th>\n",
       "      <th>max</th>\n",
       "    </tr>\n",
       "  </thead>\n",
       "  <tbody>\n",
       "    <tr>\n",
       "      <th>age</th>\n",
       "      <td>302.0</td>\n",
       "      <td>54.420530</td>\n",
       "      <td>9.047970</td>\n",
       "      <td>29.0</td>\n",
       "      <td>55.5</td>\n",
       "      <td>68.00</td>\n",
       "      <td>69.97</td>\n",
       "      <td>70.00</td>\n",
       "      <td>71.00</td>\n",
       "      <td>77.0</td>\n",
       "    </tr>\n",
       "    <tr>\n",
       "      <th>rest_bps</th>\n",
       "      <td>302.0</td>\n",
       "      <td>131.602649</td>\n",
       "      <td>17.563394</td>\n",
       "      <td>94.0</td>\n",
       "      <td>130.0</td>\n",
       "      <td>160.00</td>\n",
       "      <td>170.00</td>\n",
       "      <td>177.92</td>\n",
       "      <td>180.00</td>\n",
       "      <td>200.0</td>\n",
       "    </tr>\n",
       "    <tr>\n",
       "      <th>cholestrol</th>\n",
       "      <td>302.0</td>\n",
       "      <td>246.500000</td>\n",
       "      <td>51.753489</td>\n",
       "      <td>126.0</td>\n",
       "      <td>240.5</td>\n",
       "      <td>326.95</td>\n",
       "      <td>340.97</td>\n",
       "      <td>353.98</td>\n",
       "      <td>406.87</td>\n",
       "      <td>564.0</td>\n",
       "    </tr>\n",
       "    <tr>\n",
       "      <th>thalach</th>\n",
       "      <td>302.0</td>\n",
       "      <td>149.569536</td>\n",
       "      <td>22.903527</td>\n",
       "      <td>71.0</td>\n",
       "      <td>152.5</td>\n",
       "      <td>181.95</td>\n",
       "      <td>184.97</td>\n",
       "      <td>186.98</td>\n",
       "      <td>191.98</td>\n",
       "      <td>202.0</td>\n",
       "    </tr>\n",
       "    <tr>\n",
       "      <th>old_peak</th>\n",
       "      <td>302.0</td>\n",
       "      <td>1.043046</td>\n",
       "      <td>1.161452</td>\n",
       "      <td>0.0</td>\n",
       "      <td>0.8</td>\n",
       "      <td>3.40</td>\n",
       "      <td>3.60</td>\n",
       "      <td>4.00</td>\n",
       "      <td>4.20</td>\n",
       "      <td>6.2</td>\n",
       "    </tr>\n",
       "  </tbody>\n",
       "</table>\n",
       "</div>"
      ],
      "text/plain": [
       "            count        mean        std    min    50%     95%     97%  \\\n",
       "age         302.0   54.420530   9.047970   29.0   55.5   68.00   69.97   \n",
       "rest_bps    302.0  131.602649  17.563394   94.0  130.0  160.00  170.00   \n",
       "cholestrol  302.0  246.500000  51.753489  126.0  240.5  326.95  340.97   \n",
       "thalach     302.0  149.569536  22.903527   71.0  152.5  181.95  184.97   \n",
       "old_peak    302.0    1.043046   1.161452    0.0    0.8    3.40    3.60   \n",
       "\n",
       "               98%     99%    max  \n",
       "age          70.00   71.00   77.0  \n",
       "rest_bps    177.92  180.00  200.0  \n",
       "cholestrol  353.98  406.87  564.0  \n",
       "thalach     186.98  191.98  202.0  \n",
       "old_peak      4.00    4.20    6.2  "
      ]
     },
     "execution_count": 20,
     "metadata": {},
     "output_type": "execute_result"
    }
   ],
   "source": [
    "df[cont_feat].describe(percentiles=[0.95,0.97,0.98,0.99]).T"
   ]
  },
  {
   "cell_type": "code",
   "execution_count": 21,
   "id": "460227a2",
   "metadata": {},
   "outputs": [
    {
     "name": "stdout",
     "output_type": "stream",
     "text": [
      "(3, 14)\n",
      "(9, 14)\n",
      "(7, 14)\n"
     ]
    }
   ],
   "source": [
    "print(df[df['old_peak']>4.2].shape)\n",
    "print(df[df['rest_bps']>170.00].shape)\n",
    "print(df[df['cholestrol']>353.98].shape)"
   ]
  },
  {
   "cell_type": "code",
   "execution_count": 41,
   "id": "9befeb2f",
   "metadata": {},
   "outputs": [],
   "source": [
    "# def outlier_treatment(x):\n",
    "#     x = x.clip(upper=x.quantile(0.99))\n",
    "#     return x"
   ]
  },
  {
   "cell_type": "code",
   "execution_count": 45,
   "id": "1c44b5c4",
   "metadata": {},
   "outputs": [],
   "source": [
    "# x = int(input())\n",
    "# res = np.where(x%2==0,'Even','Odd')\n",
    "# print(res)"
   ]
  },
  {
   "cell_type": "code",
   "execution_count": 22,
   "id": "bc779e9b",
   "metadata": {},
   "outputs": [],
   "source": [
    "df['old_peak'] = np.where(df['old_peak']>4.2,4.2,df['old_peak'])\n",
    "df['rest_bps'] = np.where(df['rest_bps']>170.00,170.00,df['rest_bps'])\n",
    "df['cholestrol'] = np.where(df['cholestrol']>353.98,353.98,df['cholestrol'])"
   ]
  },
  {
   "cell_type": "code",
   "execution_count": 23,
   "id": "7c89adef",
   "metadata": {},
   "outputs": [
    {
     "data": {
      "image/png": "[encoded data removed]",
      "text/plain": [
       "<Figure size 640x480 with 1 Axes>"
      ]
     },
     "metadata": {},
     "output_type": "display_data"
    },
    {
     "data": {
      "image/png": "[encoded data removed]",
      "text/plain": [
       "<Figure size 640x480 with 1 Axes>"
      ]
     },
     "metadata": {},
     "output_type": "display_data"
    },
    {
     "data": {
      "image/png": "[encoded data removed]",
      "text/plain": [
       "<Figure size 640x480 with 1 Axes>"
      ]
     },
     "metadata": {},
     "output_type": "display_data"
    }
   ],
   "source": [
    "for i in ['old_peak','rest_bps','cholestrol']:\n",
    "    sns.boxplot(x=df[i])\n",
    "    plt.title(f'{i}')\n",
    "    plt.show()"
   ]
  },
  {
   "cell_type": "markdown",
   "id": "ba7b2f80",
   "metadata": {},
   "source": [
    "#### Select x and y"
   ]
  },
  {
   "cell_type": "code",
   "execution_count": 24,
   "id": "529db0bb",
   "metadata": {},
   "outputs": [
    {
     "name": "stdout",
     "output_type": "stream",
     "text": [
      "<class 'pandas.core.frame.DataFrame'> <class 'pandas.core.series.Series'>\n",
      "(302, 13) (302,)\n"
     ]
    }
   ],
   "source": [
    "x = df.drop('target',axis=1)\n",
    "y = df['target']\n",
    "print(type(x),type(y))\n",
    "print(x.shape,y.shape)"
   ]
  },
  {
   "cell_type": "markdown",
   "id": "739b92cf",
   "metadata": {},
   "source": [
    "#### Split data into train and test"
   ]
  },
  {
   "cell_type": "code",
   "execution_count": 25,
   "id": "b9c86c0e",
   "metadata": {},
   "outputs": [],
   "source": [
    "from sklearn.model_selection import train_test_split"
   ]
  },
  {
   "cell_type": "code",
   "execution_count": 26,
   "id": "be7e30f7",
   "metadata": {},
   "outputs": [
    {
     "name": "stdout",
     "output_type": "stream",
     "text": [
      "(211, 13)\n",
      "(91, 13)\n",
      "(211,)\n",
      "(91,)\n"
     ]
    }
   ],
   "source": [
    "x_train,x_test,y_train,y_test = train_test_split(x,y,test_size=0.30,random_state=42)\n",
    "print(x_train.shape)\n",
    "print(x_test.shape)\n",
    "print(y_train.shape)\n",
    "print(y_test.shape)"
   ]
  },
  {
   "cell_type": "markdown",
   "id": "aeb23de3",
   "metadata": {},
   "source": [
    "#### Creating Function Evaluate model performance"
   ]
  },
  {
   "cell_type": "code",
   "execution_count": 36,
   "id": "a407b088",
   "metadata": {},
   "outputs": [],
   "source": [
    "from sklearn.metrics import confusion_matrix,classification_report,accuracy_score"
   ]
  },
  {
   "cell_type": "code",
   "execution_count": 33,
   "id": "d0412ca5",
   "metadata": {},
   "outputs": [],
   "source": [
    "# def eval_model(ytest,ypred):\n",
    "#     cm = confusion_matrix(ytest,ypred)\n",
    "#     print(cm)\n",
    "#     print('Acc Score',accuracy_score(ytest,ypred))\n",
    "#     print(classification_report(ytest,ypred))\n",
    "    \n",
    "def mscore(model):\n",
    "    print('Train Score',model.score(x_train,y_train))\n",
    "    print('Test Score',model.score(x_test,y_test))"
   ]
  },
  {
   "cell_type": "code",
   "execution_count": 48,
   "id": "5538d310",
   "metadata": {},
   "outputs": [],
   "source": [
    "def eval_model(model,x_train,x_test,y_train,y_test,model_name):\n",
    "    model.fit(x_train,y_train)\n",
    "    train_scr = model.score(x_train,y_train)\n",
    "    test_scr = model.score(x_test,y_test)\n",
    "    ypred = model.predict(x_test)\n",
    "    cm = confusion_matrix(y_test,ypred)\n",
    "    print(cm)\n",
    "    print('Acc Score',accuracy_score(y_test,ypred))\n",
    "    print(classification_report(y_test,ypred))\n",
    "    res = pd.DataFrame({'Train_Score':train_scr,'Test_Score':test_scr},index=[model_name])\n",
    "    return res"
   ]
  },
  {
   "cell_type": "markdown",
   "id": "543108e8",
   "metadata": {},
   "source": [
    "#### Model Building"
   ]
  },
  {
   "cell_type": "code",
   "execution_count": 32,
   "id": "2426637e",
   "metadata": {},
   "outputs": [],
   "source": [
    "from sklearn.tree import DecisionTreeClassifier, plot_tree,export_text"
   ]
  },
  {
   "cell_type": "code",
   "execution_count": 50,
   "id": "cdf2d0d4",
   "metadata": {},
   "outputs": [
    {
     "name": "stdout",
     "output_type": "stream",
     "text": [
      "[[35  7]\n",
      " [10 39]]\n",
      "Acc Score 0.8131868131868132\n",
      "              precision    recall  f1-score   support\n",
      "\n",
      "           0       0.78      0.83      0.80        42\n",
      "           1       0.85      0.80      0.82        49\n",
      "\n",
      "    accuracy                           0.81        91\n",
      "   macro avg       0.81      0.81      0.81        91\n",
      "weighted avg       0.82      0.81      0.81        91\n",
      "\n"
     ]
    },
    {
     "data": {
      "text/html": [
       "<div>\n",
       "<style scoped>\n",
       "    .dataframe tbody tr th:only-of-type {\n",
       "        vertical-align: middle;\n",
       "    }\n",
       "\n",
       "    .dataframe tbody tr th {\n",
       "        vertical-align: top;\n",
       "    }\n",
       "\n",
       "    .dataframe thead th {\n",
       "        text-align: right;\n",
       "    }\n",
       "</style>\n",
       "<table border=\"1\" class=\"dataframe\">\n",
       "  <thead>\n",
       "    <tr style=\"text-align: right;\">\n",
       "      <th></th>\n",
       "      <th>Train_Score</th>\n",
       "      <th>Test_Score</th>\n",
       "    </tr>\n",
       "  </thead>\n",
       "  <tbody>\n",
       "    <tr>\n",
       "      <th>DT1(gini)</th>\n",
       "      <td>1.0</td>\n",
       "      <td>0.813187</td>\n",
       "    </tr>\n",
       "  </tbody>\n",
       "</table>\n",
       "</div>"
      ],
      "text/plain": [
       "           Train_Score  Test_Score\n",
       "DT1(gini)          1.0    0.813187"
      ]
     },
     "execution_count": 50,
     "metadata": {},
     "output_type": "execute_result"
    }
   ],
   "source": [
    "dt1 = DecisionTreeClassifier(criterion='gini')\n",
    "dt1_res = eval_model(dt1,x_train,x_test,y_train,y_test,'DT1(gini)')\n",
    "dt1_res"
   ]
  },
  {
   "cell_type": "code",
   "execution_count": 45,
   "id": "765a62ad",
   "metadata": {},
   "outputs": [
    {
     "data": {
      "text/html": [
       "<div>\n",
       "<style scoped>\n",
       "    .dataframe tbody tr th:only-of-type {\n",
       "        vertical-align: middle;\n",
       "    }\n",
       "\n",
       "    .dataframe tbody tr th {\n",
       "        vertical-align: top;\n",
       "    }\n",
       "\n",
       "    .dataframe thead th {\n",
       "        text-align: right;\n",
       "    }\n",
       "</style>\n",
       "<table border=\"1\" class=\"dataframe\">\n",
       "  <thead>\n",
       "    <tr style=\"text-align: right;\">\n",
       "      <th></th>\n",
       "      <th>Train_Score</th>\n",
       "      <th>Test_Score</th>\n",
       "    </tr>\n",
       "  </thead>\n",
       "  <tbody>\n",
       "    <tr>\n",
       "      <th>DT1(gini)</th>\n",
       "      <td>1.0</td>\n",
       "      <td>0.813187</td>\n",
       "    </tr>\n",
       "  </tbody>\n",
       "</table>\n",
       "</div>"
      ],
      "text/plain": [
       "           Train_Score  Test_Score\n",
       "DT1(gini)          1.0    0.813187"
      ]
     },
     "execution_count": 45,
     "metadata": {},
     "output_type": "execute_result"
    }
   ],
   "source": [
    "dt1_res"
   ]
  },
  {
   "cell_type": "code",
   "execution_count": 53,
   "id": "a2cc64ac",
   "metadata": {},
   "outputs": [
    {
     "name": "stdout",
     "output_type": "stream",
     "text": [
      "[[34  8]\n",
      " [14 35]]\n",
      "Acc Score 0.7582417582417582\n",
      "              precision    recall  f1-score   support\n",
      "\n",
      "           0       0.71      0.81      0.76        42\n",
      "           1       0.81      0.71      0.76        49\n",
      "\n",
      "    accuracy                           0.76        91\n",
      "   macro avg       0.76      0.76      0.76        91\n",
      "weighted avg       0.77      0.76      0.76        91\n",
      "\n"
     ]
    }
   ],
   "source": [
    "dt2 = DecisionTreeClassifier(criterion='gini',max_depth=7,min_samples_split=15)\n",
    "dt2_res = eval_model(dt2,x_train,x_test,y_train,y_test,'DT2(gini,md,mss)')"
   ]
  },
  {
   "cell_type": "code",
   "execution_count": 54,
   "id": "4cadbae2",
   "metadata": {},
   "outputs": [
    {
     "data": {
      "text/html": [
       "<div>\n",
       "<style scoped>\n",
       "    .dataframe tbody tr th:only-of-type {\n",
       "        vertical-align: middle;\n",
       "    }\n",
       "\n",
       "    .dataframe tbody tr th {\n",
       "        vertical-align: top;\n",
       "    }\n",
       "\n",
       "    .dataframe thead th {\n",
       "        text-align: right;\n",
       "    }\n",
       "</style>\n",
       "<table border=\"1\" class=\"dataframe\">\n",
       "  <thead>\n",
       "    <tr style=\"text-align: right;\">\n",
       "      <th></th>\n",
       "      <th>Train_Score</th>\n",
       "      <th>Test_Score</th>\n",
       "    </tr>\n",
       "  </thead>\n",
       "  <tbody>\n",
       "    <tr>\n",
       "      <th>DT2(gini,md,mss)</th>\n",
       "      <td>0.886256</td>\n",
       "      <td>0.758242</td>\n",
       "    </tr>\n",
       "  </tbody>\n",
       "</table>\n",
       "</div>"
      ],
      "text/plain": [
       "                  Train_Score  Test_Score\n",
       "DT2(gini,md,mss)     0.886256    0.758242"
      ]
     },
     "execution_count": 54,
     "metadata": {},
     "output_type": "execute_result"
    }
   ],
   "source": [
    "dt2_res"
   ]
  },
  {
   "cell_type": "markdown",
   "id": "55622bc7",
   "metadata": {},
   "source": [
    "#### Cross Validation for Max_Depth"
   ]
  },
  {
   "cell_type": "code",
   "execution_count": 55,
   "id": "a3793630",
   "metadata": {},
   "outputs": [],
   "source": [
    "from sklearn.model_selection import cross_val_score, GridSearchCV, RandomizedSearchCV, KFold"
   ]
  },
  {
   "cell_type": "code",
   "execution_count": 56,
   "id": "3f0b5a52",
   "metadata": {},
   "outputs": [
    {
     "name": "stdout",
     "output_type": "stream",
     "text": [
      "Score for max_depth 7 is [0.81967213 0.75409836 0.75       0.76666667 0.71666667]\n",
      "Mean Score max_depth 7 is 0.7614207650273224\n",
      "Score for max_depth 8 is [0.75409836 0.78688525 0.81666667 0.66666667 0.58333333]\n",
      "Mean Score max_depth 8 is 0.7215300546448088\n",
      "Score for max_depth 9 is [0.72131148 0.73770492 0.73333333 0.75       0.73333333]\n",
      "Mean Score max_depth 9 is 0.735136612021858\n",
      "Score for max_depth 10 is [0.70491803 0.75409836 0.7        0.76666667 0.66666667]\n",
      "Mean Score max_depth 10 is 0.7184699453551912\n",
      "Score for max_depth 11 is [0.62295082 0.70491803 0.68333333 0.71666667 0.73333333]\n",
      "Mean Score max_depth 11 is 0.69224043715847\n",
      "Score for max_depth 12 is [0.73770492 0.73770492 0.7        0.8        0.76666667]\n",
      "Mean Score max_depth 12 is 0.7484153005464481\n"
     ]
    }
   ],
   "source": [
    "kf_cv = KFold(n_splits=5,shuffle=True)\n",
    "dt = DecisionTreeClassifier(criterion='gini')\n",
    "max_depth_range = list(range(7,13))  # 7,8,9,10,11,12\n",
    "for i in max_depth_range:\n",
    "    score = cross_val_score(dt, x,y,cv=kf_cv,scoring='accuracy')\n",
    "    print(f'Score for max_depth {i} is {score}')\n",
    "    print(f'Mean Score max_depth {i} is {score.mean()}')"
   ]
  },
  {
   "cell_type": "markdown",
   "id": "3ec9aace",
   "metadata": {},
   "source": [
    "#### Cross Validation for Min_Samples_Split"
   ]
  },
  {
   "cell_type": "code",
   "execution_count": 57,
   "id": "19b79298",
   "metadata": {},
   "outputs": [
    {
     "name": "stdout",
     "output_type": "stream",
     "text": [
      "Score for min_samples_split 8 is [0.78688525 0.7704918  0.66666667 0.8        0.73333333]\n",
      "Mean Score min_samples_split 8 is 0.7514754098360656\n",
      "Score for min_samples_split 10 is [0.75409836 0.75409836 0.76666667 0.73333333 0.75      ]\n",
      "Mean Score min_samples_split 10 is 0.7516393442622951\n",
      "Score for min_samples_split 12 is [0.72131148 0.86885246 0.66666667 0.66666667 0.8       ]\n",
      "Mean Score min_samples_split 12 is 0.7446994535519126\n",
      "Score for min_samples_split 14 is [0.70491803 0.78688525 0.85       0.6        0.71666667]\n",
      "Mean Score min_samples_split 14 is 0.7316939890710383\n",
      "Score for min_samples_split 16 is [0.75409836 0.78688525 0.75       0.83333333 0.73333333]\n",
      "Mean Score min_samples_split 16 is 0.7715300546448087\n",
      "Score for min_samples_split 18 is [0.83606557 0.75409836 0.68333333 0.81666667 0.66666667]\n",
      "Mean Score min_samples_split 18 is 0.7513661202185792\n"
     ]
    }
   ],
   "source": [
    "kf_cv = KFold(n_splits=5,shuffle=True)\n",
    "dt = DecisionTreeClassifier(criterion='gini')\n",
    "mss_range = list(range(8,20,2))  # 8,10,12,....,18\n",
    "for i in mss_range:\n",
    "    score = cross_val_score(dt, x,y,cv=kf_cv,scoring='accuracy')\n",
    "    print(f'Score for min_samples_split {i} is {score}')\n",
    "    print(f'Mean Score min_samples_split {i} is {score.mean()}')"
   ]
  },
  {
   "cell_type": "markdown",
   "id": "6457cbbb",
   "metadata": {},
   "source": [
    "### Hyperparameter Tuning Techniques\n",
    "\n",
    "#### GridSearchCV\n",
    "1) Searches for all possible permutations and combination of hyperparameters and then generates the best hyperparameters.<br>\n",
    "2) High time complexity<br>\n",
    "\n",
    "#### RandomizedSarchCV\n",
    "1) Searches for some random combinations of hyperparameters and then generates the best parameters from amongst the randomly chosen combinations.<br>\n",
    "2) Low time complexity<br>\n"
   ]
  },
  {
   "cell_type": "code",
   "execution_count": 83,
   "id": "fb3056de",
   "metadata": {},
   "outputs": [],
   "source": [
    "hparams = {'criterion':['gini','entropy'],\n",
    "          'max_depth':[8,9,10,11,12,14],\n",
    "          'min_samples_split':[8,10,12,14,15,16,20]}"
   ]
  },
  {
   "cell_type": "code",
   "execution_count": 84,
   "id": "4b29d2e0",
   "metadata": {},
   "outputs": [
    {
     "data": {
      "text/plain": [
       "GridSearchCV(estimator=DecisionTreeClassifier(),\n",
       "             param_grid={'criterion': ['gini', 'entropy'],\n",
       "                         'max_depth': [8, 9, 10, 11, 12, 14],\n",
       "                         'min_samples_split': [8, 10, 12, 14, 15, 16, 20]},\n",
       "             scoring='accuracy')"
      ]
     },
     "execution_count": 84,
     "metadata": {},
     "output_type": "execute_result"
    }
   ],
   "source": [
    "dt_base = DecisionTreeClassifier()\n",
    "gscv = GridSearchCV(dt_base,param_grid=hparams,scoring='accuracy')  # cv=5\n",
    "gscv.fit(x_train,y_train)"
   ]
  },
  {
   "cell_type": "code",
   "execution_count": 85,
   "id": "f4484031",
   "metadata": {},
   "outputs": [
    {
     "name": "stdout",
     "output_type": "stream",
     "text": [
      "{'criterion': 'entropy', 'max_depth': 9, 'min_samples_split': 10}\n"
     ]
    }
   ],
   "source": [
    "print(gscv.best_params_)"
   ]
  },
  {
   "cell_type": "code",
   "execution_count": 87,
   "id": "b9154327",
   "metadata": {},
   "outputs": [
    {
     "data": {
      "text/html": [
       "<div>\n",
       "<style scoped>\n",
       "    .dataframe tbody tr th:only-of-type {\n",
       "        vertical-align: middle;\n",
       "    }\n",
       "\n",
       "    .dataframe tbody tr th {\n",
       "        vertical-align: top;\n",
       "    }\n",
       "\n",
       "    .dataframe thead th {\n",
       "        text-align: right;\n",
       "    }\n",
       "</style>\n",
       "<table border=\"1\" class=\"dataframe\">\n",
       "  <thead>\n",
       "    <tr style=\"text-align: right;\">\n",
       "      <th></th>\n",
       "      <th>mean_fit_time</th>\n",
       "      <th>std_fit_time</th>\n",
       "      <th>mean_score_time</th>\n",
       "      <th>std_score_time</th>\n",
       "      <th>param_criterion</th>\n",
       "      <th>param_max_depth</th>\n",
       "      <th>param_min_samples_split</th>\n",
       "      <th>params</th>\n",
       "      <th>split0_test_score</th>\n",
       "      <th>split1_test_score</th>\n",
       "      <th>split2_test_score</th>\n",
       "      <th>split3_test_score</th>\n",
       "      <th>split4_test_score</th>\n",
       "      <th>mean_test_score</th>\n",
       "      <th>std_test_score</th>\n",
       "      <th>rank_test_score</th>\n",
       "    </tr>\n",
       "  </thead>\n",
       "  <tbody>\n",
       "    <tr>\n",
       "      <th>0</th>\n",
       "      <td>0.003399</td>\n",
       "      <td>0.000496</td>\n",
       "      <td>0.002605</td>\n",
       "      <td>0.000494</td>\n",
       "      <td>gini</td>\n",
       "      <td>8</td>\n",
       "      <td>8</td>\n",
       "      <td>{'criterion': 'gini', 'max_depth': 8, 'min_sam...</td>\n",
       "      <td>0.790698</td>\n",
       "      <td>0.785714</td>\n",
       "      <td>0.714286</td>\n",
       "      <td>0.785714</td>\n",
       "      <td>0.785714</td>\n",
       "      <td>0.772425</td>\n",
       "      <td>0.029134</td>\n",
       "      <td>44</td>\n",
       "    </tr>\n",
       "    <tr>\n",
       "      <th>1</th>\n",
       "      <td>0.003793</td>\n",
       "      <td>0.000397</td>\n",
       "      <td>0.002798</td>\n",
       "      <td>0.001165</td>\n",
       "      <td>gini</td>\n",
       "      <td>8</td>\n",
       "      <td>10</td>\n",
       "      <td>{'criterion': 'gini', 'max_depth': 8, 'min_sam...</td>\n",
       "      <td>0.790698</td>\n",
       "      <td>0.785714</td>\n",
       "      <td>0.714286</td>\n",
       "      <td>0.833333</td>\n",
       "      <td>0.785714</td>\n",
       "      <td>0.781949</td>\n",
       "      <td>0.038272</td>\n",
       "      <td>9</td>\n",
       "    </tr>\n",
       "    <tr>\n",
       "      <th>2</th>\n",
       "      <td>0.004594</td>\n",
       "      <td>0.002870</td>\n",
       "      <td>0.002199</td>\n",
       "      <td>0.000748</td>\n",
       "      <td>gini</td>\n",
       "      <td>8</td>\n",
       "      <td>12</td>\n",
       "      <td>{'criterion': 'gini', 'max_depth': 8, 'min_sam...</td>\n",
       "      <td>0.767442</td>\n",
       "      <td>0.761905</td>\n",
       "      <td>0.714286</td>\n",
       "      <td>0.833333</td>\n",
       "      <td>0.785714</td>\n",
       "      <td>0.772536</td>\n",
       "      <td>0.038476</td>\n",
       "      <td>39</td>\n",
       "    </tr>\n",
       "    <tr>\n",
       "      <th>3</th>\n",
       "      <td>0.002798</td>\n",
       "      <td>0.000399</td>\n",
       "      <td>0.001799</td>\n",
       "      <td>0.000749</td>\n",
       "      <td>gini</td>\n",
       "      <td>8</td>\n",
       "      <td>14</td>\n",
       "      <td>{'criterion': 'gini', 'max_depth': 8, 'min_sam...</td>\n",
       "      <td>0.790698</td>\n",
       "      <td>0.809524</td>\n",
       "      <td>0.714286</td>\n",
       "      <td>0.833333</td>\n",
       "      <td>0.761905</td>\n",
       "      <td>0.781949</td>\n",
       "      <td>0.041127</td>\n",
       "      <td>9</td>\n",
       "    </tr>\n",
       "    <tr>\n",
       "      <th>4</th>\n",
       "      <td>0.003598</td>\n",
       "      <td>0.000799</td>\n",
       "      <td>0.002398</td>\n",
       "      <td>0.001497</td>\n",
       "      <td>gini</td>\n",
       "      <td>8</td>\n",
       "      <td>15</td>\n",
       "      <td>{'criterion': 'gini', 'max_depth': 8, 'min_sam...</td>\n",
       "      <td>0.767442</td>\n",
       "      <td>0.809524</td>\n",
       "      <td>0.714286</td>\n",
       "      <td>0.833333</td>\n",
       "      <td>0.761905</td>\n",
       "      <td>0.777298</td>\n",
       "      <td>0.041190</td>\n",
       "      <td>17</td>\n",
       "    </tr>\n",
       "  </tbody>\n",
       "</table>\n",
       "</div>"
      ],
      "text/plain": [
       "   mean_fit_time  std_fit_time  mean_score_time  std_score_time  \\\n",
       "0       0.003399      0.000496         0.002605        0.000494   \n",
       "1       0.003793      0.000397         0.002798        0.001165   \n",
       "2       0.004594      0.002870         0.002199        0.000748   \n",
       "3       0.002798      0.000399         0.001799        0.000749   \n",
       "4       0.003598      0.000799         0.002398        0.001497   \n",
       "\n",
       "  param_criterion param_max_depth param_min_samples_split  \\\n",
       "0            gini               8                       8   \n",
       "1            gini               8                      10   \n",
       "2            gini               8                      12   \n",
       "3            gini               8                      14   \n",
       "4            gini               8                      15   \n",
       "\n",
       "                                              params  split0_test_score  \\\n",
       "0  {'criterion': 'gini', 'max_depth': 8, 'min_sam...           0.790698   \n",
       "1  {'criterion': 'gini', 'max_depth': 8, 'min_sam...           0.790698   \n",
       "2  {'criterion': 'gini', 'max_depth': 8, 'min_sam...           0.767442   \n",
       "3  {'criterion': 'gini', 'max_depth': 8, 'min_sam...           0.790698   \n",
       "4  {'criterion': 'gini', 'max_depth': 8, 'min_sam...           0.767442   \n",
       "\n",
       "   split1_test_score  split2_test_score  split3_test_score  split4_test_score  \\\n",
       "0           0.785714           0.714286           0.785714           0.785714   \n",
       "1           0.785714           0.714286           0.833333           0.785714   \n",
       "2           0.761905           0.714286           0.833333           0.785714   \n",
       "3           0.809524           0.714286           0.833333           0.761905   \n",
       "4           0.809524           0.714286           0.833333           0.761905   \n",
       "\n",
       "   mean_test_score  std_test_score  rank_test_score  \n",
       "0         0.772425        0.029134               44  \n",
       "1         0.781949        0.038272                9  \n",
       "2         0.772536        0.038476               39  \n",
       "3         0.781949        0.041127                9  \n",
       "4         0.777298        0.041190               17  "
      ]
     },
     "execution_count": 87,
     "metadata": {},
     "output_type": "execute_result"
    }
   ],
   "source": [
    "gscv1_res = pd.DataFrame(gscv.cv_results_)\n",
    "gscv1_res.head()"
   ]
  },
  {
   "cell_type": "code",
   "execution_count": 88,
   "id": "304a59a3",
   "metadata": {},
   "outputs": [
    {
     "data": {
      "text/plain": [
       "(84, 16)"
      ]
     },
     "execution_count": 88,
     "metadata": {},
     "output_type": "execute_result"
    }
   ],
   "source": [
    "gscv1_res.shape"
   ]
  },
  {
   "cell_type": "code",
   "execution_count": 89,
   "id": "56c1d47c",
   "metadata": {},
   "outputs": [
    {
     "data": {
      "text/plain": [
       "Index(['mean_fit_time', 'std_fit_time', 'mean_score_time', 'std_score_time',\n",
       "       'param_criterion', 'param_max_depth', 'param_min_samples_split',\n",
       "       'params', 'split0_test_score', 'split1_test_score', 'split2_test_score',\n",
       "       'split3_test_score', 'split4_test_score', 'mean_test_score',\n",
       "       'std_test_score', 'rank_test_score'],\n",
       "      dtype='object')"
      ]
     },
     "execution_count": 89,
     "metadata": {},
     "output_type": "execute_result"
    }
   ],
   "source": [
    "gscv1_res.columns"
   ]
  },
  {
   "cell_type": "code",
   "execution_count": 94,
   "id": "aa6dd5fd",
   "metadata": {},
   "outputs": [
    {
     "name": "stderr",
     "output_type": "stream",
     "text": [
      "C:\\Users\\Dell\\AppData\\Local\\Temp\\ipykernel_4732\\3123731538.py:2: SettingWithCopyWarning: \n",
      "A value is trying to be set on a copy of a slice from a DataFrame\n",
      "\n",
      "See the caveats in the documentation: https://pandas.pydata.org/pandas-docs/stable/user_guide/indexing.html#returning-a-view-versus-a-copy\n",
      "  comp1.sort_values('rank_test_score',ascending=True,inplace=True)\n"
     ]
    },
    {
     "data": {
      "text/html": [
       "<div>\n",
       "<style scoped>\n",
       "    .dataframe tbody tr th:only-of-type {\n",
       "        vertical-align: middle;\n",
       "    }\n",
       "\n",
       "    .dataframe tbody tr th {\n",
       "        vertical-align: top;\n",
       "    }\n",
       "\n",
       "    .dataframe thead th {\n",
       "        text-align: right;\n",
       "    }\n",
       "</style>\n",
       "<table border=\"1\" class=\"dataframe\">\n",
       "  <thead>\n",
       "    <tr style=\"text-align: right;\">\n",
       "      <th></th>\n",
       "      <th>params</th>\n",
       "      <th>mean_test_score</th>\n",
       "      <th>rank_test_score</th>\n",
       "    </tr>\n",
       "  </thead>\n",
       "  <tbody>\n",
       "    <tr>\n",
       "      <th>50</th>\n",
       "      <td>{'criterion': 'entropy', 'max_depth': 9, 'min_...</td>\n",
       "      <td>0.791473</td>\n",
       "      <td>1</td>\n",
       "    </tr>\n",
       "    <tr>\n",
       "      <th>64</th>\n",
       "      <td>{'criterion': 'entropy', 'max_depth': 11, 'min...</td>\n",
       "      <td>0.786822</td>\n",
       "      <td>2</td>\n",
       "    </tr>\n",
       "    <tr>\n",
       "      <th>44</th>\n",
       "      <td>{'criterion': 'entropy', 'max_depth': 8, 'min_...</td>\n",
       "      <td>0.786711</td>\n",
       "      <td>3</td>\n",
       "    </tr>\n",
       "    <tr>\n",
       "      <th>78</th>\n",
       "      <td>{'criterion': 'entropy', 'max_depth': 14, 'min...</td>\n",
       "      <td>0.786711</td>\n",
       "      <td>3</td>\n",
       "    </tr>\n",
       "    <tr>\n",
       "      <th>51</th>\n",
       "      <td>{'criterion': 'entropy', 'max_depth': 9, 'min_...</td>\n",
       "      <td>0.786711</td>\n",
       "      <td>3</td>\n",
       "    </tr>\n",
       "    <tr>\n",
       "      <th>...</th>\n",
       "      <td>...</td>\n",
       "      <td>...</td>\n",
       "      <td>...</td>\n",
       "    </tr>\n",
       "    <tr>\n",
       "      <th>55</th>\n",
       "      <td>{'criterion': 'entropy', 'max_depth': 9, 'min_...</td>\n",
       "      <td>0.748837</td>\n",
       "      <td>79</td>\n",
       "    </tr>\n",
       "    <tr>\n",
       "      <th>76</th>\n",
       "      <td>{'criterion': 'entropy', 'max_depth': 12, 'min...</td>\n",
       "      <td>0.748837</td>\n",
       "      <td>79</td>\n",
       "    </tr>\n",
       "    <tr>\n",
       "      <th>48</th>\n",
       "      <td>{'criterion': 'entropy', 'max_depth': 8, 'min_...</td>\n",
       "      <td>0.748837</td>\n",
       "      <td>79</td>\n",
       "    </tr>\n",
       "    <tr>\n",
       "      <th>69</th>\n",
       "      <td>{'criterion': 'entropy', 'max_depth': 11, 'min...</td>\n",
       "      <td>0.748837</td>\n",
       "      <td>79</td>\n",
       "    </tr>\n",
       "    <tr>\n",
       "      <th>83</th>\n",
       "      <td>{'criterion': 'entropy', 'max_depth': 14, 'min...</td>\n",
       "      <td>0.748837</td>\n",
       "      <td>79</td>\n",
       "    </tr>\n",
       "  </tbody>\n",
       "</table>\n",
       "<p>84 rows × 3 columns</p>\n",
       "</div>"
      ],
      "text/plain": [
       "                                               params  mean_test_score  \\\n",
       "50  {'criterion': 'entropy', 'max_depth': 9, 'min_...         0.791473   \n",
       "64  {'criterion': 'entropy', 'max_depth': 11, 'min...         0.786822   \n",
       "44  {'criterion': 'entropy', 'max_depth': 8, 'min_...         0.786711   \n",
       "78  {'criterion': 'entropy', 'max_depth': 14, 'min...         0.786711   \n",
       "51  {'criterion': 'entropy', 'max_depth': 9, 'min_...         0.786711   \n",
       "..                                                ...              ...   \n",
       "55  {'criterion': 'entropy', 'max_depth': 9, 'min_...         0.748837   \n",
       "76  {'criterion': 'entropy', 'max_depth': 12, 'min...         0.748837   \n",
       "48  {'criterion': 'entropy', 'max_depth': 8, 'min_...         0.748837   \n",
       "69  {'criterion': 'entropy', 'max_depth': 11, 'min...         0.748837   \n",
       "83  {'criterion': 'entropy', 'max_depth': 14, 'min...         0.748837   \n",
       "\n",
       "    rank_test_score  \n",
       "50                1  \n",
       "64                2  \n",
       "44                3  \n",
       "78                3  \n",
       "51                3  \n",
       "..              ...  \n",
       "55               79  \n",
       "76               79  \n",
       "48               79  \n",
       "69               79  \n",
       "83               79  \n",
       "\n",
       "[84 rows x 3 columns]"
      ]
     },
     "execution_count": 94,
     "metadata": {},
     "output_type": "execute_result"
    }
   ],
   "source": [
    "comp1 = gscv1_res[['params', 'mean_test_score','rank_test_score']]\n",
    "comp1.sort_values('rank_test_score',ascending=True,inplace=True)\n",
    "comp1"
   ]
  },
  {
   "cell_type": "code",
   "execution_count": 100,
   "id": "e676be39",
   "metadata": {},
   "outputs": [
    {
     "name": "stdout",
     "output_type": "stream",
     "text": [
      "{'criterion': 'entropy', 'max_depth': 9, 'min_samples_split': 10}\n",
      "DecisionTreeClassifier(criterion='entropy', max_depth=9, min_samples_split=10)\n",
      "50\n",
      "0.7914728682170542\n"
     ]
    }
   ],
   "source": [
    "print(gscv.best_params_)\n",
    "print(gscv.best_estimator_)\n",
    "print(gscv.best_index_)\n",
    "print(gscv.best_score_)"
   ]
  },
  {
   "cell_type": "code",
   "execution_count": 97,
   "id": "e5c330b4",
   "metadata": {},
   "outputs": [
    {
     "name": "stdout",
     "output_type": "stream",
     "text": [
      "0.909952606635071\n",
      "0.7252747252747253\n"
     ]
    }
   ],
   "source": [
    "print(gscv.score(x_train,y_train))\n",
    "print(gscv.score(x_test,y_test))"
   ]
  },
  {
   "cell_type": "markdown",
   "id": "6a2379c9",
   "metadata": {},
   "source": [
    "#### args and kwargs"
   ]
  },
  {
   "cell_type": "code",
   "execution_count": null,
   "id": "80eb3dd4",
   "metadata": {},
   "outputs": [],
   "source": [
    "# args - *, used with list or tuple\n",
    "# kwargs - **, used with dict"
   ]
  },
  {
   "cell_type": "code",
   "execution_count": 108,
   "id": "a37ef8d0",
   "metadata": {},
   "outputs": [
    {
     "name": "stdout",
     "output_type": "stream",
     "text": [
      "5\n",
      "0\n",
      "73\n",
      "17\n"
     ]
    }
   ],
   "source": [
    "def sum_n(*x):\n",
    "    tot = 0\n",
    "    for i in x:   # destructuring\n",
    "        tot += i\n",
    "    print(tot)\n",
    "    \n",
    "sum_n(2,3)\n",
    "sum_n()\n",
    "sum_n(2,3,5,7,8,9,12,14,13)\n",
    "sum_n(2,3,5,7)"
   ]
  },
  {
   "cell_type": "code",
   "execution_count": 109,
   "id": "fade5156",
   "metadata": {},
   "outputs": [
    {
     "name": "stdout",
     "output_type": "stream",
     "text": [
      "[10, 20, 40, [5, 6, 7, 8], 50]\n",
      "[10, 20, 40, 5, 6, 7, 8, 50]\n"
     ]
    }
   ],
   "source": [
    "w1 = [5,6,7,8]\n",
    "w2 = [10,20,40,w1,50]\n",
    "w3 = [10,20,40,*w1,50]\n",
    "print(w2)\n",
    "print(w3)"
   ]
  },
  {
   "cell_type": "code",
   "execution_count": 119,
   "id": "2f5d304a",
   "metadata": {},
   "outputs": [
    {
     "name": "stdout",
     "output_type": "stream",
     "text": [
      "{'name': 'Ankit', 'age': 22}\n",
      "{'age': 22, 'city': 'Delhi', 'name': 'Ankit'}\n"
     ]
    }
   ],
   "source": [
    "def f1(**n):\n",
    "    print(n)\n",
    "    \n",
    "f1(name='Ankit',age=22)\n",
    "f1(age=22,city='Delhi',name='Ankit')"
   ]
  },
  {
   "cell_type": "code",
   "execution_count": 118,
   "id": "958ffe32",
   "metadata": {},
   "outputs": [
    {
     "name": "stdout",
     "output_type": "stream",
     "text": [
      "35\n"
     ]
    }
   ],
   "source": [
    "def prod(a,b):\n",
    "    print(a*b)\n",
    "\n",
    "prod(5,7)"
   ]
  },
  {
   "cell_type": "code",
   "execution_count": 121,
   "id": "00fd594b",
   "metadata": {},
   "outputs": [
    {
     "name": "stdout",
     "output_type": "stream",
     "text": [
      "{'k1': 5, 'k2': 7, 'k3': {'a1': 10, 'a2': 20}}\n",
      "{'k1': 5, 'k2': 7, 'a1': 10, 'a2': 20}\n"
     ]
    }
   ],
   "source": [
    "w1 = {'a1':10,'a2':20}\n",
    "w2 = {'k1':5,'k2':7,'k3':w1}\n",
    "w3 = {'k1':5,'k2':7,**w1}\n",
    "print(w2)\n",
    "print(w3)"
   ]
  },
  {
   "cell_type": "code",
   "execution_count": null,
   "id": "2b6e60ae",
   "metadata": {},
   "outputs": [],
   "source": [
    "#### ** kwargs - keyword args"
   ]
  },
  {
   "cell_type": "code",
   "execution_count": 110,
   "id": "241e4b45",
   "metadata": {},
   "outputs": [
    {
     "name": "stdout",
     "output_type": "stream",
     "text": [
      "[[36  6]\n",
      " [10 39]]\n",
      "Acc Score 0.8241758241758241\n",
      "              precision    recall  f1-score   support\n",
      "\n",
      "           0       0.78      0.86      0.82        42\n",
      "           1       0.87      0.80      0.83        49\n",
      "\n",
      "    accuracy                           0.82        91\n",
      "   macro avg       0.82      0.83      0.82        91\n",
      "weighted avg       0.83      0.82      0.82        91\n",
      "\n"
     ]
    },
    {
     "data": {
      "text/html": [
       "<div>\n",
       "<style scoped>\n",
       "    .dataframe tbody tr th:only-of-type {\n",
       "        vertical-align: middle;\n",
       "    }\n",
       "\n",
       "    .dataframe tbody tr th {\n",
       "        vertical-align: top;\n",
       "    }\n",
       "\n",
       "    .dataframe thead th {\n",
       "        text-align: right;\n",
       "    }\n",
       "</style>\n",
       "<table border=\"1\" class=\"dataframe\">\n",
       "  <thead>\n",
       "    <tr style=\"text-align: right;\">\n",
       "      <th></th>\n",
       "      <th>Train_Score</th>\n",
       "      <th>Test_Score</th>\n",
       "    </tr>\n",
       "  </thead>\n",
       "  <tbody>\n",
       "    <tr>\n",
       "      <th>GS_Best_params</th>\n",
       "      <td>1.0</td>\n",
       "      <td>0.824176</td>\n",
       "    </tr>\n",
       "  </tbody>\n",
       "</table>\n",
       "</div>"
      ],
      "text/plain": [
       "                Train_Score  Test_Score\n",
       "GS_Best_params          1.0    0.824176"
      ]
     },
     "execution_count": 110,
     "metadata": {},
     "output_type": "execute_result"
    }
   ],
   "source": [
    "final_dt = DecisionTreeClassifier(**gscv.best_params_)\n",
    "final_res = eval_model(dt1,x_train,x_test,y_train,y_test,'GS_Best_params')\n",
    "final_res"
   ]
  },
  {
   "cell_type": "markdown",
   "id": "9be42dc8",
   "metadata": {},
   "source": [
    "#### Randomized Search CV"
   ]
  },
  {
   "cell_type": "code",
   "execution_count": 122,
   "id": "70764013",
   "metadata": {},
   "outputs": [],
   "source": [
    "hparams = {'criterion':['gini','entropy'],\n",
    "          'max_depth':[8,9,10,11,12,14],\n",
    "          'min_samples_split':[8,10,12,14,15,16,20]}"
   ]
  },
  {
   "cell_type": "code",
   "execution_count": 133,
   "id": "a6f780b8",
   "metadata": {},
   "outputs": [
    {
     "data": {
      "text/plain": [
       "RandomizedSearchCV(estimator=DecisionTreeClassifier(), n_iter=20,\n",
       "                   param_distributions={'criterion': ['gini', 'entropy'],\n",
       "                                        'max_depth': [8, 9, 10, 11, 12, 14],\n",
       "                                        'min_samples_split': [8, 10, 12, 14, 15,\n",
       "                                                              16, 20]},\n",
       "                   scoring='accuracy')"
      ]
     },
     "execution_count": 133,
     "metadata": {},
     "output_type": "execute_result"
    }
   ],
   "source": [
    "dt_base1 = DecisionTreeClassifier()\n",
    "rscv = RandomizedSearchCV(dt_base1,param_distributions=hparams,scoring='accuracy',n_iter=20)  # cv=5\n",
    "rscv.fit(x_train,y_train)"
   ]
  },
  {
   "cell_type": "code",
   "execution_count": 134,
   "id": "c7fb653a",
   "metadata": {},
   "outputs": [
    {
     "data": {
      "text/plain": [
       "(20, 16)"
      ]
     },
     "execution_count": 134,
     "metadata": {},
     "output_type": "execute_result"
    }
   ],
   "source": [
    "rscv_res = pd.DataFrame(rscv.cv_results_)\n",
    "rscv_res.shape"
   ]
  },
  {
   "cell_type": "code",
   "execution_count": 135,
   "id": "257709a6",
   "metadata": {},
   "outputs": [
    {
     "data": {
      "text/html": [
       "<div>\n",
       "<style scoped>\n",
       "    .dataframe tbody tr th:only-of-type {\n",
       "        vertical-align: middle;\n",
       "    }\n",
       "\n",
       "    .dataframe tbody tr th {\n",
       "        vertical-align: top;\n",
       "    }\n",
       "\n",
       "    .dataframe thead th {\n",
       "        text-align: right;\n",
       "    }\n",
       "</style>\n",
       "<table border=\"1\" class=\"dataframe\">\n",
       "  <thead>\n",
       "    <tr style=\"text-align: right;\">\n",
       "      <th></th>\n",
       "      <th>params</th>\n",
       "      <th>mean_test_score</th>\n",
       "      <th>rank_test_score</th>\n",
       "    </tr>\n",
       "  </thead>\n",
       "  <tbody>\n",
       "    <tr>\n",
       "      <th>0</th>\n",
       "      <td>{'min_samples_split': 10, 'max_depth': 9, 'cri...</td>\n",
       "      <td>0.777187</td>\n",
       "      <td>6</td>\n",
       "    </tr>\n",
       "    <tr>\n",
       "      <th>1</th>\n",
       "      <td>{'min_samples_split': 8, 'max_depth': 8, 'crit...</td>\n",
       "      <td>0.777298</td>\n",
       "      <td>5</td>\n",
       "    </tr>\n",
       "    <tr>\n",
       "      <th>2</th>\n",
       "      <td>{'min_samples_split': 8, 'max_depth': 12, 'cri...</td>\n",
       "      <td>0.758250</td>\n",
       "      <td>19</td>\n",
       "    </tr>\n",
       "    <tr>\n",
       "      <th>3</th>\n",
       "      <td>{'min_samples_split': 15, 'max_depth': 11, 'cr...</td>\n",
       "      <td>0.772425</td>\n",
       "      <td>14</td>\n",
       "    </tr>\n",
       "    <tr>\n",
       "      <th>4</th>\n",
       "      <td>{'min_samples_split': 10, 'max_depth': 14, 'cr...</td>\n",
       "      <td>0.782060</td>\n",
       "      <td>2</td>\n",
       "    </tr>\n",
       "    <tr>\n",
       "      <th>5</th>\n",
       "      <td>{'min_samples_split': 14, 'max_depth': 9, 'cri...</td>\n",
       "      <td>0.767663</td>\n",
       "      <td>16</td>\n",
       "    </tr>\n",
       "    <tr>\n",
       "      <th>6</th>\n",
       "      <td>{'min_samples_split': 15, 'max_depth': 8, 'cri...</td>\n",
       "      <td>0.777187</td>\n",
       "      <td>6</td>\n",
       "    </tr>\n",
       "    <tr>\n",
       "      <th>7</th>\n",
       "      <td>{'min_samples_split': 16, 'max_depth': 12, 'cr...</td>\n",
       "      <td>0.772647</td>\n",
       "      <td>11</td>\n",
       "    </tr>\n",
       "    <tr>\n",
       "      <th>8</th>\n",
       "      <td>{'min_samples_split': 15, 'max_depth': 10, 'cr...</td>\n",
       "      <td>0.763123</td>\n",
       "      <td>18</td>\n",
       "    </tr>\n",
       "    <tr>\n",
       "      <th>9</th>\n",
       "      <td>{'min_samples_split': 10, 'max_depth': 11, 'cr...</td>\n",
       "      <td>0.782171</td>\n",
       "      <td>1</td>\n",
       "    </tr>\n",
       "    <tr>\n",
       "      <th>10</th>\n",
       "      <td>{'min_samples_split': 15, 'max_depth': 8, 'cri...</td>\n",
       "      <td>0.767885</td>\n",
       "      <td>15</td>\n",
       "    </tr>\n",
       "    <tr>\n",
       "      <th>11</th>\n",
       "      <td>{'min_samples_split': 12, 'max_depth': 11, 'cr...</td>\n",
       "      <td>0.781949</td>\n",
       "      <td>3</td>\n",
       "    </tr>\n",
       "    <tr>\n",
       "      <th>12</th>\n",
       "      <td>{'min_samples_split': 14, 'max_depth': 14, 'cr...</td>\n",
       "      <td>0.781949</td>\n",
       "      <td>3</td>\n",
       "    </tr>\n",
       "    <tr>\n",
       "      <th>13</th>\n",
       "      <td>{'min_samples_split': 16, 'max_depth': 11, 'cr...</td>\n",
       "      <td>0.772647</td>\n",
       "      <td>11</td>\n",
       "    </tr>\n",
       "    <tr>\n",
       "      <th>14</th>\n",
       "      <td>{'min_samples_split': 8, 'max_depth': 8, 'crit...</td>\n",
       "      <td>0.758250</td>\n",
       "      <td>19</td>\n",
       "    </tr>\n",
       "    <tr>\n",
       "      <th>15</th>\n",
       "      <td>{'min_samples_split': 14, 'max_depth': 11, 'cr...</td>\n",
       "      <td>0.777187</td>\n",
       "      <td>6</td>\n",
       "    </tr>\n",
       "    <tr>\n",
       "      <th>16</th>\n",
       "      <td>{'min_samples_split': 10, 'max_depth': 10, 'cr...</td>\n",
       "      <td>0.777187</td>\n",
       "      <td>6</td>\n",
       "    </tr>\n",
       "    <tr>\n",
       "      <th>17</th>\n",
       "      <td>{'min_samples_split': 8, 'max_depth': 9, 'crit...</td>\n",
       "      <td>0.767663</td>\n",
       "      <td>16</td>\n",
       "    </tr>\n",
       "    <tr>\n",
       "      <th>18</th>\n",
       "      <td>{'min_samples_split': 15, 'max_depth': 11, 'cr...</td>\n",
       "      <td>0.772647</td>\n",
       "      <td>11</td>\n",
       "    </tr>\n",
       "    <tr>\n",
       "      <th>19</th>\n",
       "      <td>{'min_samples_split': 14, 'max_depth': 12, 'cr...</td>\n",
       "      <td>0.777187</td>\n",
       "      <td>6</td>\n",
       "    </tr>\n",
       "  </tbody>\n",
       "</table>\n",
       "</div>"
      ],
      "text/plain": [
       "                                               params  mean_test_score  \\\n",
       "0   {'min_samples_split': 10, 'max_depth': 9, 'cri...         0.777187   \n",
       "1   {'min_samples_split': 8, 'max_depth': 8, 'crit...         0.777298   \n",
       "2   {'min_samples_split': 8, 'max_depth': 12, 'cri...         0.758250   \n",
       "3   {'min_samples_split': 15, 'max_depth': 11, 'cr...         0.772425   \n",
       "4   {'min_samples_split': 10, 'max_depth': 14, 'cr...         0.782060   \n",
       "5   {'min_samples_split': 14, 'max_depth': 9, 'cri...         0.767663   \n",
       "6   {'min_samples_split': 15, 'max_depth': 8, 'cri...         0.777187   \n",
       "7   {'min_samples_split': 16, 'max_depth': 12, 'cr...         0.772647   \n",
       "8   {'min_samples_split': 15, 'max_depth': 10, 'cr...         0.763123   \n",
       "9   {'min_samples_split': 10, 'max_depth': 11, 'cr...         0.782171   \n",
       "10  {'min_samples_split': 15, 'max_depth': 8, 'cri...         0.767885   \n",
       "11  {'min_samples_split': 12, 'max_depth': 11, 'cr...         0.781949   \n",
       "12  {'min_samples_split': 14, 'max_depth': 14, 'cr...         0.781949   \n",
       "13  {'min_samples_split': 16, 'max_depth': 11, 'cr...         0.772647   \n",
       "14  {'min_samples_split': 8, 'max_depth': 8, 'crit...         0.758250   \n",
       "15  {'min_samples_split': 14, 'max_depth': 11, 'cr...         0.777187   \n",
       "16  {'min_samples_split': 10, 'max_depth': 10, 'cr...         0.777187   \n",
       "17  {'min_samples_split': 8, 'max_depth': 9, 'crit...         0.767663   \n",
       "18  {'min_samples_split': 15, 'max_depth': 11, 'cr...         0.772647   \n",
       "19  {'min_samples_split': 14, 'max_depth': 12, 'cr...         0.777187   \n",
       "\n",
       "    rank_test_score  \n",
       "0                 6  \n",
       "1                 5  \n",
       "2                19  \n",
       "3                14  \n",
       "4                 2  \n",
       "5                16  \n",
       "6                 6  \n",
       "7                11  \n",
       "8                18  \n",
       "9                 1  \n",
       "10               15  \n",
       "11                3  \n",
       "12                3  \n",
       "13               11  \n",
       "14               19  \n",
       "15                6  \n",
       "16                6  \n",
       "17               16  \n",
       "18               11  \n",
       "19                6  "
      ]
     },
     "execution_count": 135,
     "metadata": {},
     "output_type": "execute_result"
    }
   ],
   "source": [
    "rscv_res[['params','mean_test_score','rank_test_score']]"
   ]
  },
  {
   "cell_type": "code",
   "execution_count": 136,
   "id": "144b1d78",
   "metadata": {},
   "outputs": [
    {
     "name": "stdout",
     "output_type": "stream",
     "text": [
      "{'min_samples_split': 10, 'max_depth': 11, 'criterion': 'entropy'}\n",
      "DecisionTreeClassifier(criterion='entropy', max_depth=11, min_samples_split=10)\n",
      "9\n",
      "0.7821705426356589\n"
     ]
    }
   ],
   "source": [
    "print(rscv.best_params_)\n",
    "print(rscv.best_estimator_)\n",
    "print(rscv.best_index_)\n",
    "print(rscv.best_score_)"
   ]
  },
  {
   "cell_type": "code",
   "execution_count": 137,
   "id": "99219644",
   "metadata": {},
   "outputs": [
    {
     "data": {
      "text/html": [
       "<div>\n",
       "<style scoped>\n",
       "    .dataframe tbody tr th:only-of-type {\n",
       "        vertical-align: middle;\n",
       "    }\n",
       "\n",
       "    .dataframe tbody tr th {\n",
       "        vertical-align: top;\n",
       "    }\n",
       "\n",
       "    .dataframe thead th {\n",
       "        text-align: right;\n",
       "    }\n",
       "</style>\n",
       "<table border=\"1\" class=\"dataframe\">\n",
       "  <thead>\n",
       "    <tr style=\"text-align: right;\">\n",
       "      <th></th>\n",
       "      <th>Train_Score</th>\n",
       "      <th>Test_Score</th>\n",
       "    </tr>\n",
       "  </thead>\n",
       "  <tbody>\n",
       "    <tr>\n",
       "      <th>DT1(gini)</th>\n",
       "      <td>1.000000</td>\n",
       "      <td>0.813187</td>\n",
       "    </tr>\n",
       "    <tr>\n",
       "      <th>DT2(gini,md,mss)</th>\n",
       "      <td>0.886256</td>\n",
       "      <td>0.758242</td>\n",
       "    </tr>\n",
       "    <tr>\n",
       "      <th>GS_Best_params</th>\n",
       "      <td>1.000000</td>\n",
       "      <td>0.824176</td>\n",
       "    </tr>\n",
       "  </tbody>\n",
       "</table>\n",
       "</div>"
      ],
      "text/plain": [
       "                  Train_Score  Test_Score\n",
       "DT1(gini)            1.000000    0.813187\n",
       "DT2(gini,md,mss)     0.886256    0.758242\n",
       "GS_Best_params       1.000000    0.824176"
      ]
     },
     "execution_count": 137,
     "metadata": {},
     "output_type": "execute_result"
    }
   ],
   "source": [
    "dt_res = pd.concat([dt1_res,dt2_res,final_res])\n",
    "dt_res"
   ]
  },
  {
   "cell_type": "code",
   "execution_count": null,
   "id": "18ca7bf2",
   "metadata": {},
   "outputs": [],
   "source": []
  }
 ],
 "metadata": {
  "kernelspec": {
   "display_name": "Python 3 (ipykernel)",
   "language": "python",
   "name": "python3"
  },
  "language_info": {
   "codemirror_mode": {
    "name": "ipython",
    "version": 3
   },
   "file_extension": ".py",
   "mimetype": "text/x-python",
   "name": "python",
   "nbconvert_exporter": "python",
   "pygments_lexer": "ipython3",
   "version": "3.10.11"
  }
 },
 "nbformat": 4,
 "nbformat_minor": 5
}
